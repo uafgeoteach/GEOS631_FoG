{
 "cells": [
  {
   "cell_type": "markdown",
   "metadata": {},
   "source": [
    "# Lab 5: Heat Flow\n",
    "---\n",
    "\n",
    "## Submission\n",
    "\n",
    "Please upload your completed notebook (renamed with your name) to Canvas as usual.\n",
    "\n",
    "## 1. Explicit finite difference solution to the heat equation\n",
    "\n",
    "In this lab we are going to model the temperature of an infinite slab over time using a basic finite difference scheme. To do this, we're taking a very important intellectual step: we move from continuous, analytical solutions, to discrete models of time and space in a numerical solution scheme. As we showed in class, the heat flows in one dimension if we can say that the slab is infinite in the other two directions. There is no movement of material (no advection) and the properties of the material are homogeneous and constant in time. The top of the slab at $x(0)$ is held at a constant temperature of 400 °C, the bottom side $x(L)$ is held at a constant temperature of 100 °C, and the rest of it is *initially* at 70 °C. \n",
    "\n",
    "Our equation then looks like:\n",
    "        \n",
    "$$\\frac{\\mathrm{d}}{\\mathrm{d}t}T = \\kappa \\frac{\\mathrm{d^2}}{\\mathrm{d}x^2}T, \\tag{1}$$\n",
    "        \n",
    "where $\\kappa$ is the coefficient of thermal diffusivity. \n",
    "        \n",
    "In order to model the change in temperature distribution in space over time, we will employ a numerical scheme to calculate the temperature at a location at time $t_j$. To achieve this, and because we are interested in just one direction, we will break our slab into $N$ layers. The temperature in any layer $i$ at time $t_j$ will then be $T_i^j$. The figure below provides a sketch of the problem setup:\n",
    "\n",
    "<img src=\"https://raw.githubusercontent.com/uafgeoteach/GEOS631_FoG/master/labs/lab_05/layers.png\" width=500/>\n",
    "<div style=\"text-align:right\"><em>Image courtesy Erin Pettit, OSU</em></div>\n",
    "        \n",
    "Our equation has a first derivative in time and a second derivative in space that we need to be able to calculate. In our discrete space, a first derivative can be accomplished by taking either the forward derivative: \n",
    "        \n",
    "$$\\frac{\\mathrm{d}}{\\mathrm{d}x}T = \\frac{T_{i+1}^j - T_{i}^j}{\\Delta x}\\,, \\tag{2}$$\n",
    "        \n",
    "or the backward derivative: \n",
    "        \n",
    "$$\\frac{\\mathrm{d}}{\\mathrm{d}x}T = \\frac{T_{i}^j - T_{i-1}^j}{\\Delta x}\\,. \\tag{3}$$\n",
    "        \n",
    "Try to visualize these in the figure above! As you walk through the layer to calculate the derivative, convince yourself that you know which elements are used in the caluclation of the derivative at which location. There are various ways to dealing with ODEs, PDEs numerically, a Numerical Analysis class/book can provide the proper treatment of that subject.\n",
    "\n",
    "To calculate the second derivative in Equation (1), we apply the forward and backward derivatives together, which generates a *centered* derivative: \n",
    "    \n",
    "$$\\frac{\\mathrm{d^2}}{\\mathrm{d}x^2}T = \\frac{T_{i+1}^j - 2T_{i}^j + T_{i-1}^j}{(\\Delta x)^2}\\,. \\tag{4}$$\n",
    "        \n",
    "Replacing the derivatives in Equation (1) with their numerical equivalents, we can rewrite our heat equation as:\n",
    "\n",
    "$$\\frac{T_i^{j+1} - T_i^{j}}{\\Delta t} = \\kappa\\frac{T_{i+1}^j - 2T_{i}^j + T_{i-1}^j}{(\\Delta x)^2}\\,. \\tag{5}$$\n",
    "\n",
    "Of course, this can be rearranged to get a solution for the temperature in layer $i$ at the next time step, $j+1$: \n",
    "        \n",
    "$$T_i^{j+1} = T_i^{j} +\\frac{\\kappa \\Delta t}{(\\Delta x)^2}\\left[ T_{i+1}^j - 2T_{i}^j + T_{i-1}^j\\right]. \\tag{6}$$       \n",
    "\n",
    "For convenience, let's set\n",
    "\n",
    "$$\\mu = \\frac{\\kappa \\Delta t}{(\\Delta x)^2}. \\tag{7}$$\n",
    "        \n",
    "Why can we do this? We require that $\\Delta t$ is a constant time step throughout the entire calculation and $\\Delta x$ is a constant distance between layers. Since these will not change, we can incorporate them into a constant coefficient. Note that you don't have to make these assumptions. We are left with the equation:\n",
    "\n",
    "$$T_i^{j+1} = T_i^{j} +\\mu \\left[ T_{i+1}^j - 2T_{i}^j + T_{i-1}^j\\right]. \\tag{8}$$\n",
    "        \n",
    "The temperature at the next time step, $j+1$, is defined by the temperature at the current time step, $j$, in the current location, $i$, and its neighbors $i\\pm1$. To find a solution, we require knowledge of an *initial condition*, here the intial temperature distribution in the slab. Fortunately, this was given in the problem.\n",
    "\n",
    "Do you notice any problems with this scheme laid out in Equation 8? What happens at the top and bottom layers for $i=0$ and $i=N-1$, respectively? Layers $T_0$ and $T_{N-1}$ have only one neighbor, so calculating the central difference is not possible, one of the terms of the central difference simply does not exist. However, the *boundary conditions* specify what temperature we should apply! In our case, the top and bottom layer of the slab do not change temperature because of the way the boundary conditions are specified. So we only need to calculate the interior points, and our scheme will work just fine.\n",
    "\n",
    "Now, with the initial condition and the boundary conditions (note that this uses Python indexing, where we start at 0):\n",
    "\n",
    "\\begin{align*}\n",
    "    T_i^0 &= 70\\ °\\mathrm{C} \\quad \\text{for} \\quad i \\neq \\{0, N-1\\} & \\mathrm{(IC)} \\\\\n",
    "    T_0^j &= 400\\ °\\mathrm{C} & \\mathrm{(BC_{top})} \\\\\n",
    "    T_{N-1}^j &= 100\\ °\\mathrm{C} & \\mathrm{(BC_{bottom})} \n",
    "\\end{align*}\n",
    "\n",
    "### 1.1 What might you do if the top and bottom layers were allowed to change?\n",
    "\n",
    "Answer in a new text cell below."
   ]
  },
  {
   "cell_type": "markdown",
   "metadata": {},
   "source": [
    "### 1.2 Using the equation above, model the temperature of the slab over time.\n",
    "\n",
    "What is the steady state solution? Try it with different values of $\\Delta x$, $\\Delta t$, and $\\kappa$. Show some examples of your solutions as plots: In one plot, show the initial temperature profile, several intermediate profiles, and the final steady state profile. (You do not have to show all time steps, especially if your time steps are small, you can plot every other time step, or every 10th time step, for example.) Label each curve according the timestep.\n",
    "\n",
    "**Hint:** Choose a value of $\\Delta x$ such that we have an appropriate number of samples across your chosen length $L$ to visualize the temperature trend. Similarly, choose a value of $t_{max}$ such that the slab being modeled can reach a steady state, and pick a $\\Delta t$ value such that we have appropriate temporal resolution.\n",
    "\n",
    "Include your code and plots as code cell(s) below."
   ]
  },
  {
   "cell_type": "markdown",
   "metadata": {},
   "source": [
    "### 1.3 How do different time steps and layer thicknesses affect the solution as it evolves through time?\n",
    "\n",
    "Answer in a new text cell below."
   ]
  },
  {
   "cell_type": "markdown",
   "metadata": {},
   "source": [
    "### 1.4 Investigating numerical stability\n",
    "\n",
    "With certain values of $\\mu$, the solution will break down. Find the range of values that causes this. **Hint:** Set $\\kappa=1$ and try different time steps and spacing. Look in the range of $\\mu = [0,1].$\n",
    "\n",
    "Answer in a new code and/or text cell below. If you answer in a text cell, provide good arguments for your answer. If you decide to solve this in code, still give a text answer summarizing your findings."
   ]
  },
  {
   "cell_type": "markdown",
   "metadata": {},
   "source": [
    "### 1.5 Modifying for an added heat source\n",
    "\n",
    "Modify this problem to solve it for an added heat source — heat generated within each layer (assume the same source everywhere). Does this solution reach a steady state? If so, what does the steady state profile look like? What geological system might this represent?\n",
    "\n",
    "Answer the above questions in a new text cell below. Include your implementation in a new code cell below. "
   ]
  },
  {
   "cell_type": "markdown",
   "metadata": {},
   "source": [
    "### 1.6 Modifying for a changed boundary condition\n",
    "\n",
    "Modify this problem to solve it for a heat flux boundary condition at the bottom instead of constant temperature boundary condition. Choose a temperature gradient to apply at the bottom boundary that will result in the same steady state profile as the first solution for static boundary conditions you calculated above.\n",
    "\n",
    "Answer in a new code cell below."
   ]
  }
 ],
 "metadata": {
  "celltoolbar": "Tags",
  "kernelspec": {
   "display_name": "base",
   "language": "python",
   "name": "python3"
  },
  "language_info": {
   "codemirror_mode": {
    "name": "ipython",
    "version": 3
   },
   "file_extension": ".py",
   "mimetype": "text/x-python",
   "name": "python",
   "nbconvert_exporter": "python",
   "pygments_lexer": "ipython3",
   "version": "3.10.4"
  }
 },
 "nbformat": 4,
 "nbformat_minor": 4
}
