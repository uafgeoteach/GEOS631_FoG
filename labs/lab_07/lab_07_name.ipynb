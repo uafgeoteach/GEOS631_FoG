{
 "cells": [
  {
   "cell_type": "markdown",
   "metadata": {},
   "source": [
    "# Lab 7: Gravity and isostasy\n",
    "---\n",
    "\n",
    "## Submission\n",
    "\n",
    "Please upload your completed notebook (renamed with your name) to Canvas as usual, along with any scanned hand-written work if applicable.\n",
    "\n",
    "## Introduction\n",
    "    \n",
    "In this lab you will combine gravity anomaly and isostasy calculations to explore the gravity signature of a passive continental margin (i.e., where the edge of a continent does not coincide with a plate boundary). The east coast of the US is a good example of a passive continental margin. These geologic settings have relatively simpler gravity anomalies due to the lack of a subducting slab and associated volcanism.\n",
    "\n",
    "First, some mathematical background. The equation for the gravity anomaly produced by a semi-infinite slab is:\n",
    "\n",
    "$$\\Delta g(x) = 2G \\Delta \\rho \\Delta h [(\\pi/2) + \\arctan(x/z)]\\,, \\tag{1}$$\n",
    "\n",
    "Recall that $G = 6.673 \\times 10^{-11} m^3 kg^{-1} s^{-2}$, a rather unwieldy expression in these units. A more compact form with $\\Delta g(x)$ **in units of mGal** is:\n",
    "\n",
    "$$\\Delta g(x) = 13.34 \\Delta \\rho \\Delta h [(\\pi/2) + \\arctan(x/z)]\\,, \\tag{1}$$\n",
    "\n",
    "which requires the density contrast $\\Delta \\rho$ in g/cm$^3$, the thickness of the slab $\\Delta h$ in km, the depth to the **center** of the slab $z$ in km, and horizontal distance from the edge of the slab $x$ in km. The geometry is shown below:\n",
    "\n",
    "<img src=\"https://raw.githubusercontent.com/uafgeoteach/GEOS631_FoG/master/labs/lab_07/semi_infinite_slab_geometry.png\n",
    "\" width=600>\n",
    "\n",
    "You can use superposition of semi-infinite slabs to construct a very simple model for a passive margin. Answer the following questions below to walk through this process.\n",
    "\n",
    "## 1.\n",
    "\n",
    "Calculate and plot the gravity anomaly due to a restricted slab of water 4 km deep adjacent to a continent (water density = \n",
    "1030 kg/m$^3$; crustal density = 2700 kg/m$^3$). The model should extend at least 500 km from the margin in each \n",
    "direction. A computed value every 2 km should provide sufficient sampling to understand the problem. Include your answer in a **new code cell** below.\n",
    "\n",
    "> **Note:** Pay attention to units!"
   ]
  },
  {
   "cell_type": "markdown",
   "metadata": {},
   "source": [
    "## 2.\n",
    "\n",
    "Using local isostasy and assuming the adjacent continental crust is 30 km thick, how deep is the base of oceanic crust underlaying your slab of water? For simplicity, you may assume that the continental and oceanic crust have the same density. Assume the mantle density is 3300 kg/m$^3$.\n",
    "\n",
    "> **Hint:** Draw the setup of the problem and define the line of isostatic compensation.\n",
    "\n",
    "Show your work in a text cell below, or by uploading a **clear and legible** scan of your work along with this notebook."
   ]
  },
  {
   "cell_type": "markdown",
   "metadata": {},
   "source": [
    "## 3.\n",
    "\n",
    "Calculate and plot the gravity anomaly for the anti-root (mantle) under the oceanic crust. Include your answer in a **new code cell** below."
   ]
  },
  {
   "cell_type": "markdown",
   "metadata": {},
   "source": [
    "## 4.\n",
    "\n",
    "An easy way to obtain the total gravity anomaly across the passive margin is to sum the two independent anomalies from the ocean and anti-root. Plot this sum along with both the ocean and anti-root anomalies on the same figure, in order to visualize their contributions to the total gravity anomaly of the system. Include your answer in a **new code cell** below."
   ]
  },
  {
   "cell_type": "markdown",
   "metadata": {},
   "source": [
    "## 5.\n",
    "\n",
    "What are the limits of the individual ocean and anti-root anomalies as you move away from the margin ($x = 0$) into the ocean basin (positive $x$)? How do they compare with the Bouguer infinite-slab estimates of the anomalies? The Bouguer infinite-slab estimate is given below:\n",
    "\n",
    "$$\\delta g_\\mathrm{B} = 2G\\pi \\Delta\\rho \\Delta h\\,, \\tag{2}$$\n",
    "\n",
    "where $G$ is the universal gravitational constant (6.67 $\\times$ 10$^{−11}$ m$^3$ kg$^{−1}$ s$^{−2}$) and other quantities as defined in Eq. 1, but in SI units here. Replicate the plot from Question 4 and add two additional lines representing the calculated Bouguer infinite-slab estimates to investigate. Answer in a **new code cell and text cell** below — mind your units!"
   ]
  },
  {
   "cell_type": "markdown",
   "metadata": {},
   "source": [
    "## 6.\n",
    "\n",
    "**(a)** What is the total anomaly at the edges (i.e., far from $x = 0$) of the model? Why?\n",
    "\n",
    "**(b)** Describe the form of the total anomaly over the margin (i.e., in the vicinity of $x = 0$) and explain its shape. Make sure to address each anomaly contribution.\n",
    "\n",
    "Answer in a **new text cell** below."
   ]
  },
  {
   "cell_type": "markdown",
   "metadata": {},
   "source": [
    "## 7.\n",
    "\n",
    "Calculate the pressure at the base of the continental crust and the pressure at the base of the oceanic crust. What \n",
    "would the persistence of this structure in time and thus the gravity anomalies require of the rheology of the \n",
    "opposing crust and mantle? Answer in a **new text cell** below. (You do not need to provide a quantitative answer here.)"
   ]
  }
 ],
 "metadata": {
  "celltoolbar": "Tags",
  "kernelspec": {
   "display_name": "base",
   "language": "python",
   "name": "python3"
  },
  "language_info": {
   "codemirror_mode": {
    "name": "ipython",
    "version": 3
   },
   "file_extension": ".py",
   "mimetype": "text/x-python",
   "name": "python",
   "nbconvert_exporter": "python",
   "pygments_lexer": "ipython3",
   "version": "3.10.4"
  }
 },
 "nbformat": 4,
 "nbformat_minor": 4
}
