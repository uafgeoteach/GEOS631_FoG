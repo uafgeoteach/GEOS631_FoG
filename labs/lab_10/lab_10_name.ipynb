{
 "cells": [
  {
   "cell_type": "markdown",
   "metadata": {},
   "source": [
    "# Lab 10: Exploring Earth's magnetic field\n",
    "---\n",
    "\n",
    "## Submission\n",
    "\n",
    "Please upload your completed notebook (renamed with your name) to Canvas as usual.\n",
    "\n",
    "## Introduction\n",
    "\n",
    "In this lab we will use a Python library to retrieve and plot Earth's magnetic field. Along the way, you'll learn a little more about making maps with Python. Recall that Earth's magnetic field can be approximated as a dipole (that is, a bar magnet) with its axis subparallel to Earth's rotational axis. The reality is that the magnetic field is more complicated and is in fact temporally varying. The image below, from a computer simulation of Earth's magnetic field, demonstrates this complexity:\n",
    "\n",
    "<img width=\"400\" src=\"https://upload.wikimedia.org/wikipedia/commons/d/d5/Geodynamo_Between_Reversals.gif\">\n",
    "\n",
    "Earth's magnetic field is a **vector field** that is generally defined with three numbers:\n",
    "\n",
    "* inclination\n",
    "* declination\n",
    "* intensity\n",
    "\n",
    "Inclination and declination together define the *direction* of the magnetic field, and the intensity defines the *magnitude*. We'll only work with inclination and declination in this lab. The below image shows how they're defined using a standard magnetic compass:\n",
    "\n",
    "<img width=\"400\" src=\"https://qph.fs.quoracdn.net/main-qimg-c75304579f65de27dde0b4b11a091089.webp\">\n",
    "\n",
    "Magnetic declination is particularly important because it has implications for navigation — compasses point to the magnetic north pole, not the geographic north pole! This is why serious navigational maps/charts include the declination on the compass rose.\n",
    "\n",
    "In this lab we will explore both the temporal and spatial complexity of Earth's magnetic field using a reference magnetic field called the International Geomagnetic Reference Field (IGRF). Earth's magnetic field a fascinating topic, and it has a well-written Wikipedia entry [here](https://en.wikipedia.org/wiki/Earth%27s_magnetic_field).\n",
    "\n",
    "## Installation of additional packages\n",
    "\n",
    "Please run the code cell below to install necessary packages for this lab.\n",
    "\n",
    "> **Note:** You'll need to run this cell every time a new Colab runtime is created!"
   ]
  },
  {
   "cell_type": "code",
   "execution_count": null,
   "metadata": {},
   "outputs": [],
   "source": [
    "import igrf\n",
    "igrf.base.build()"
   ]
  },
  {
   "cell_type": "markdown",
   "metadata": {},
   "source": [
    "## 1 — Using `igrf` to obtain magnetic field values\n",
    "\n",
    "We'll be using the Python package `igrf12` to obtain magnetic field values for plotting. This package provides a function called `igrf()` which allows you to obtain the magnetic field vector for a given geodetic latitude, longitude, altitude, and time (remember, the magnetic field is time-varying!). Here's an example which retrieves the magnetic field vector at Earth's surface at the location of Fairbanks at the beginning of 2010:"
   ]
  },
  {
   "cell_type": "code",
   "execution_count": null,
   "metadata": {},
   "outputs": [],
   "source": [
    "from igrf import igrf\n",
    "\n",
    "mag = igrf(time='2010-01-01', glat=64.8378, glon=-147.7164, alt_km=0)\n",
    "mag"
   ]
  },
  {
   "cell_type": "markdown",
   "metadata": {},
   "source": [
    "The output `mag` is an object with information about the magnetic field vector. Individual values can be extracted using a dot (`.`) — e.g., `mag.incl`, `mag.alt_km`, etc. Try providing different values for the `alt_km` function argument to see how the vector changes. (Nothing to turn in here.)\n",
    "\n",
    "## 2 — Global maps of inclination and declination\n",
    "\n",
    "### 2.1\n",
    "\n",
    "Now, use `igrf()` to construct **two global maps** depicting the Earth's magnetic field at 0 km altitude on January 1, 2010: One of magnetic inclination, and one of magnetic declination. These should be **contour** maps which plot isolines of inclination/declination. Include a colorbar on your maps. We've provided a template for map construction — which uses the Python mapping package [`cartopy`](https://scitools.org.uk/cartopy/docs/latest/) — in a code cell below.\n",
    "\n",
    "Include your code to generate the data and plots in a **new code cell(s) below**."
   ]
  },
  {
   "cell_type": "code",
   "execution_count": null,
   "metadata": {},
   "outputs": [],
   "source": [
    "import matplotlib.pyplot as plt\n",
    "import cartopy.crs as ccrs\n",
    "\n",
    "PROJECTION = ccrs.Robinson()  # List here: https://scitools.org.uk/cartopy/docs/latest/crs/projections.html\n",
    "\n",
    "fig, ax = plt.subplots(subplot_kw=dict(projection=PROJECTION), figsize=(10, 8))\n",
    "# ax.contour(..., transform=ccrs.PlateCarree())  # YOUR DATA GOES HERE\n",
    "ax.coastlines()\n",
    "\n",
    "plt.show()"
   ]
  },
  {
   "cell_type": "markdown",
   "metadata": {
    "tags": []
   },
   "source": [
    "### 2.2\n",
    "\n",
    "In a **new text cell below**, explain the patterns you observe in your plots above. For inclination, make sure to include discussion of the values near the equator versus near the poles, as well as any asymmetries you observe. For declination, what do large values represent? Where are these large values found, and why are they found there?"
   ]
  },
  {
   "cell_type": "markdown",
   "metadata": {},
   "source": [
    "## 3 — Examining the poles\n",
    "\n",
    "### 3.1\n",
    "\n",
    "Now, make a total of four plots showing the magnetic inclination and declination at Earth's geographic north and south poles. (Note that you can re-use your grid of magnetic field values from part 2.) We've provided a template for map construction in a code cell below. In addition to contours of the magnetic field, also plot on each figure:\n",
    "\n",
    "* the location of the geographic pole\n",
    "* at least three magnetic pole locations, corresponding to 2010 as well as earlier years (magnetic pole locations for integer years from 1590–2025, format `lon lat year`, for the south pole and north pole are [here](https://www.ngdc.noaa.gov/geomag/data/poles/SP.xy) and [here](https://www.ngdc.noaa.gov/geomag/data/poles/NP.xy), respectively)\n",
    "\n",
    "Please include the code to create these four plots in a **new code cell(s) below**."
   ]
  },
  {
   "cell_type": "code",
   "execution_count": null,
   "metadata": {},
   "outputs": [],
   "source": [
    "PROJECTION = ccrs.SouthPolarStereo()  # Or ccrs.NorthPolarStereo()\n",
    "\n",
    "fig, ax = plt.subplots(subplot_kw=dict(projection=PROJECTION), figsize=(8, 6))\n",
    "# ax.contour(..., transform=ccrs.PlateCarree())  # YOUR DATA GOES HERE\n",
    "ax.coastlines()\n",
    "ax.set_extent([-180, 180, -90, -60], crs=ccrs.PlateCarree())  # [lonmin, lonmax, latmin, latmax]\n",
    "ax.gridlines(draw_labels=True)\n",
    "\n",
    "plt.show()"
   ]
  },
  {
   "cell_type": "markdown",
   "metadata": {},
   "source": [
    "### 3.2\n",
    "\n",
    "Using your plots above, answer the following questions in a **new text cell below**.\n",
    "\n",
    "* Do the locations of the magnetic poles in 2010 make sense given the inclination and declination patterns in 2010? Why or why not?\n",
    "* What temporal trends do you observe in the locations of the magnetic poles?"
   ]
  }
 ],
 "metadata": {
  "celltoolbar": "Tags",
  "kernelspec": {
   "display_name": "base",
   "language": "python",
   "name": "python3"
  },
  "language_info": {
   "codemirror_mode": {
    "name": "ipython",
    "version": 3
   },
   "file_extension": ".py",
   "mimetype": "text/x-python",
   "name": "python",
   "nbconvert_exporter": "python",
   "pygments_lexer": "ipython3",
   "version": "3.10.4"
  }
 },
 "nbformat": 4,
 "nbformat_minor": 4
}
